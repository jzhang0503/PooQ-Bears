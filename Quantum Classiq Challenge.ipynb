{
  "cells": [
    {
      "cell_type": "markdown",
      "metadata": {
        "id": "ZwSwrQ1hj9sZ"
      },
      "source": [
        "## Classiq's YQuantum 2024 Sparse State-Preparation Challenge\n",
        "\n",
        "Welcome to the Sparse State-Preparation Challenge, presented by Classiq at YQuantum 2024. This challenge is designed for quantum computing enthusiasts of all levels, aiming to enhance your understanding and spur innovation in sparse state-preparation.\n",
        "\n",
        "### Challenge Overview\n",
        "- **Objective**: Develop quantum circuits that efficiently prepare sparse quantum states. These states are characterized by a small number of non-zero amplitudes, reducing quantum resource requirements and enhancing practical execution on near-term quantum hardware.\n",
        "\n",
        "### Background\n",
        "- **Importance of State Preparation**: State preparation is a crucial first step for many quantum algorithms. It involves setting a quantum state to represent a specific vector of probabilities or functions. The challenge focuses on sparse states, which are pivotal in applications like quantum linear algebra and quantum machine learning.\n",
        "\n",
        "### Problem Statement\n",
        "- **Sparse State-Preparation**: Your task is to create circuits that load a quantum state with probabilities corresponding to a given sparse vector. This challenge highlights the nuances of designing circuits that are both efficient and effective for today's quantum computing limitations.\n",
        "\n",
        "### Resources and Guidance\n",
        "- **Classiq's Tools**: Utilize Classiq’s platform, QMOD language, and SDK, which provide robust tools for designing and testing quantum algorithms. Participants are encouraged to base their implementations on \"An Efficient Algorithm for Sparse Quantum State Preparation\" by Niels Gleinig and Torsten Hoefler.\n",
        "\n",
        "### Goals and Expectations\n",
        "- **Output Goal**: Efficiently prepare a quantum state reflecting specified probabilities, ensuring high fidelity and resource efficiency.\n",
        "- **Example**: For input `{‘00000001’: 0.25, ‘00010001’: 0.5, ‘11001000’: 0.25}`, the output quantum state should correspond to these probabilities.\n"
      ]
    },
    {
      "cell_type": "code",
      "execution_count": null,
      "metadata": {
        "colab": {
          "base_uri": "https://localhost:8080/"
        },
        "id": "4skcotBrj9sc",
        "outputId": "8d03d604-5c79-4a6e-9ad2-6c53688ee5a2"
      },
      "outputs": [
        {
          "name": "stderr",
          "output_type": "stream",
          "text": [
            "/usr/local/lib/python3.10/dist-packages/classiq/_internals/authentication/token_manager.py:96: UserWarning: Device is already registered.\n",
            "Generating a new refresh token should only be done if the current refresh token is compromised.\n",
            "To do so, set the overwrite parameter to true\n",
            "  warnings.warn(\n"
          ]
        }
      ],
      "source": [
        "#!pip3 install classiq\n",
        "#!pip3 install numpy\n",
        "\n",
        "import classiq\n",
        "classiq.authenticate()"
      ]
    },
    {
      "cell_type": "code",
      "execution_count": null,
      "metadata": {
        "id": "NhSkfy8oj9sd"
      },
      "outputs": [],
      "source": [
        "from classiq import *\n",
        "import numpy as np"
      ]
    },
    {
      "cell_type": "markdown",
      "metadata": {
        "id": "Sy5SPMDrj9sd"
      },
      "source": [
        "## Classical Functions\n",
        "This section includes utility functions for classical pre-processing in quantum algorithms:\n",
        "\n",
        "- `dict_to_3d_array(sparse_states)`: Converts a dictionary of sparse states into a 3D array format.\n",
        "- `custom_filter(func, iterable)`: Filters items in an iterable based on a function.\n",
        "- `unequal_sets(t, n)`: Determines the best qubit to split a set `t` into subsets with a significant size difference.\n",
        "- `process_subsets(t, n, dif_qubits, dif_values)`: Processes subsets to determine difference qubits and values.\n",
        "- `toggle_operations(index, n, x_x, ops1, ops2, s)`: Toggles operations based on the index condition.\n",
        "- `conditional_toggle(ops1, ops2, n, dif, b, s)`: Conditionally toggles based on a difference.\n",
        "- `calc_alpha_beta(x_1, x_2)`: Calculates and adjusts alpha and beta values."
      ]
    },
    {
      "cell_type": "code",
      "execution_count": null,
      "metadata": {
        "id": "DN0dl3Lgj9sd"
      },
      "outputs": [],
      "source": [
        "def dict_to_3d_array(sparse_states):\n",
        "    array_3d = []\n",
        "\n",
        "    for key, value in sparse_states.items():\n",
        "        point = [int(digit) for digit in key]\n",
        "        array_3d.append([point, value])\n",
        "\n",
        "    return array_3d\n",
        "\n",
        "def custom_filter(func, iterable):\n",
        "    return [item for item in iterable if func(item)]\n",
        "\n",
        "def unequal_sets(t, n):\n",
        "\n",
        "    best_qubit = None\n",
        "    T_0=[]\n",
        "    T_1=[]\n",
        "    current_difference = float('-inf')\n",
        "\n",
        "    for b in range(n):\n",
        "        #Filter list based on boolean condition\n",
        "        T_0 = custom_filter(lambda x, b=b: x[0][b] == 0, t)\n",
        "        T_1 = custom_filter(lambda x, b=b: x[0][b] == 1, t)\n",
        "\n",
        "        # Check if both sets are non-empty\n",
        "        if len(T_0) != 0 and len(T_1) != 0:\n",
        "            difference = abs(len(T_0) - len(T_1))\n",
        "            #If new max difference\n",
        "            if difference > current_difference:\n",
        "                current_difference = difference\n",
        "                best_qubit = b\n",
        "                t_0 = T_0\n",
        "                t_1 = T_1\n",
        "\n",
        "    return best_qubit,t_0, t_1\n",
        "\n",
        "def process_subsets(t, n, dif_qubits, dif_values):\n",
        "    while len(t) > 1:\n",
        "        b, T_0, T_1 = unequal_sets(t, n)\n",
        "        dif_qubits.append(b)\n",
        "        if len(T_0) < len(T_1):\n",
        "            t = T_0\n",
        "            dif_values.append(0)\n",
        "        else:\n",
        "            t = T_1\n",
        "            dif_values.append(1)\n",
        "    return dif_qubits, dif_values, t\n",
        "\n",
        "def toggle_operations(index,n, x_x, ops1, ops2,s):\n",
        "    if x_x[0][index] != 1: #Identical code\n",
        "            ops1 += [1]\n",
        "            ops2 += [n-1-index]\n",
        "            for x in s:\n",
        "                x[0][index]= int(not x[0][index])\n",
        "\n",
        "def conditional_toggle(ops1,ops2,n,dif,b,s):\n",
        "    ops1 += [2]\n",
        "    sx = [n-1-dif,n-1-b]\n",
        "    ops2 += [sx]\n",
        "    for x in s:\n",
        "        if x[0][dif] == 1:\n",
        "            x[0][b] = int(not x[0][b])\n",
        "\n",
        "def calc_alpha_beta(x_1,x_2):\n",
        "    beta = x_1[1]\n",
        "    alpha = x_2[1]\n",
        "\n",
        "    x_2[1] = alpha+beta\n",
        "    alpha = alpha/x_2[1]\n",
        "    beta = beta/x_2[1]\n",
        "\n",
        "    return alpha, beta"
      ]
    },
    {
      "cell_type": "markdown",
      "metadata": {
        "id": "loMPWO8zj9se"
      },
      "source": [
        "## Quantum Functions\n",
        "This section details quantum operations essential for the algorithm:\n",
        "\n",
        "- Quantum functions corresponding to the classical ones, allowing operations on quantum states based on classical pre-processing."
      ]
    },
    {
      "cell_type": "code",
      "execution_count": null,
      "metadata": {
        "id": "xHfJjcZWj9se"
      },
      "outputs": [],
      "source": [
        "# https://docs.classiq.io/latest/user-guide/platform/qmod/language-reference/statements/quantum-operators/?h=quantum+operators#__tabbed_2_2\n",
        "\n",
        "#TODO implement unitary_control() using Classiq's built in control()\n",
        "@qfunc\n",
        "def unitary_control(qubit: QArray[QBit], contrl: QArray[QBit], target: QParam[int]):\n",
        "      control(ctrl=contrl, operand=lambda: X(qubit[target]))\n",
        "#TODO implement y_rotation using the RY() gate\n",
        "@qfunc\n",
        "def y_rotation(theta: QParam[float], reg: QArray[QBit], target: QParam[int]):\n",
        "      RY(theta, reg[target])\n",
        "\n",
        "@qfunc\n",
        "def my_controlled_unitary(q:QArray[QBit], w:QParam[float], ctrl:QArray[QBit], target:QParam[int]) -> None:\n",
        "      within_apply(compute=lambda: y_rotation(w,q,target), action=lambda: unitary_control(q, ctrl, target))\n",
        "\n",
        "@qfunc\n",
        "def my_unitary(q:QArray[QBit], w:QParam[float],target:QParam[int]) -> None:\n",
        "      within_apply(compute=lambda: y_rotation(w,q,target), action=lambda: X(q[target]))"
      ]
    },
    {
      "cell_type": "markdown",
      "metadata": {
        "id": "QyLaYShZj9se"
      },
      "source": [
        "## Sparse State Prep\n",
        "Describes the arguments and setup for preparing a sparse quantum state:\n",
        "\n",
        "- Initial setup includes defining quantum bit requirements and preparing the environment.\n",
        "- Integration of classical functions to set up and manipulate quantum state preparation based on given sparse states.\n",
        "\n",
        "### Algorithm 1\n",
        "- **Purpose**: The primary function of `algorithm_1` is to efficiently prepare a sparse quantum state based on a given set of sparse state descriptions. It utilizes classical pre-processing to determine the optimal sequence of quantum gates.\n",
        "- **Process**:\n",
        "  - It begins by identifying the qubits and the operations that will result in the greatest simplification of the quantum state based on the input data.\n",
        "  - The algorithm iteratively processes subsets of quantum states, toggling qubits and adjusting their probabilities to converge towards the desired sparse state.\n",
        "  - Each iteration updates operation lists which are used to guide the quantum operations on the actual quantum hardware.\n",
        "  "
      ]
    },
    {
      "cell_type": "code",
      "execution_count": null,
      "metadata": {
        "id": "5PlrxwACj9se"
      },
      "outputs": [],
      "source": [
        "# Already implemented\n",
        "\n",
        "def algorithm_1(s,n, ops1, ops2, ops3, ops4, ops5, n9):\n",
        "    dif_qubits = [] #Where to operate\n",
        "    dif_values = [] #What operation\n",
        "\n",
        "    #Preprocessing\n",
        "    T = s\n",
        "\n",
        "    dif_qubits, dif_values, t = process_subsets(T, n, dif_qubits, dif_values)\n",
        "\n",
        "    dif = dif_qubits.pop()\n",
        "    dif_values.pop()\n",
        "\n",
        "    x_1 = t[0]\n",
        "    t_dagger = [x for x in s if all(x[0][q] == v for q, v in zip(dif_qubits, dif_values))]\n",
        "    t_dagger.remove(x_1)\n",
        "\n",
        "\n",
        "\n",
        "    dif_qubits, dif_values, t_dagger = process_subsets(t_dagger, n, dif_qubits, dif_values)\n",
        "\n",
        "    x_2 = t_dagger[0]\n",
        "\n",
        "\n",
        "    #Storing necessary operations\n",
        "    toggle_operations(dif,n,x_1,ops1,ops2,s)\n",
        "\n",
        "    for b in range(n):\n",
        "        if b != dif and x_1[0][b] != x_2[0][b]:\n",
        "            conditional_toggle(ops1,ops3,n,dif,b,s)\n",
        "\n",
        "    for b in dif_qubits:\n",
        "        toggle_operations(b,n,x_2,ops1,ops2,s)\n",
        "\n",
        "\n",
        "    alpha, beta = calc_alpha_beta(x_1,x_2)\n",
        "\n",
        "    ops1 += [3]\n",
        "    sy = [alpha,beta, dif_qubits, dif]\n",
        "\n",
        "    if len(dif_qubits) > 0:\n",
        "        n9 += [len(dif_qubits)]\n",
        "    else:\n",
        "        sy.remove(dif_qubits)\n",
        "\n",
        "    ops4 += [sy] # contains alpha, beta, dif_qubits, dif\n",
        "    s.remove(x_1)\n",
        "\n",
        "    if len(s) > 1:\n",
        "        algorithm_1(s,n, ops1, ops2, ops3, ops4, ops5, n9)\n",
        "    else:\n",
        "        ops1 += [4]\n",
        "        ops5 += [x_2[0]] # seems to be that x_2 contains the final"
      ]
    },
    {
      "cell_type": "markdown",
      "metadata": {
        "id": "QDDKd-85j9sf"
      },
      "source": [
        "### Main Function Implementation\n",
        "- **Purpose**: The `main` function orchestrates the overall setup and execution of the sparse state preparation.\n",
        "- **Functionality**:\n",
        "  - It initializes the quantum environment with the necessary number of qubits based on the input state descriptions.\n",
        "  - The sparse states are first converted into a format suitable for quantum operations using `dict_to_3d_array`.\n",
        "  - The main function then invokes `algorithm_1` to find the necessary operation to prepare the sparse quantum state.\n",
        "  - After `algorithm_1` completes, the `main` function applies the quantum operations to finalize the state preparation.\n",
        "  - It is responsible for managing and applying the computed operations to the quantum system, effectively translating the classical pre-processing results into quantum manipulations."
      ]
    },
    {
      "cell_type": "code",
      "execution_count": null,
      "metadata": {
        "colab": {
          "base_uri": "https://localhost:8080/"
        },
        "id": "CUe5KYF0j9sf",
        "outputId": "046f7c5a-b477-4e32-be6e-3c53a962dde2"
      },
      "outputs": [
        {
          "name": "stdout",
          "output_type": "stream",
          "text": [
            "Opening: https://platform.classiq.io/circuit/c1fcbd85-9bdf-4210-ab12-21fc7bdd5658?version=0.39.0\n"
          ]
        }
      ],
      "source": [
        "@qfunc\n",
        "def main(psi: Output[QArray[QBit]]):\n",
        "    #Arguments for algorithm1()\n",
        "    sparse_states = {'000': 0.25, '001': 0.5, '111': 0.25}\n",
        "\n",
        "    #sparse_states = {'000011': 0.4, '111111': 0.6}\n",
        "\n",
        "    #sparse_states = {'0000000101': 0.33, '0000010001': 0.33, '0001100010': 0.34}\n",
        "\n",
        "    #sparse_states = {'00000000000000000101': 0.6, '00000000000000010001': 0.4}\n",
        "    NUM_QUBITS = len(next(iter(sparse_states)))\n",
        "\n",
        "    ops1 = []#Stores operations\n",
        "    ops2 = []\n",
        "    ops3 = []\n",
        "    ops4 = []\n",
        "    ops5 = []\n",
        "    n9 = []\n",
        "\n",
        "    #End of arguments\n",
        "    #Allocate qubits for output\n",
        "    allocate(NUM_QUBITS, psi)\n",
        "\n",
        "    sparse_states = dict_to_3d_array(sparse_states)\n",
        "    if len(sparse_states[0]) > 1:\n",
        "        #Reference https://htor.inf.ethz.ch/publications/img/quantum_dac.pdf to understand algorithm_1() and its relationship to implementation\n",
        "        algorithm_1(sparse_states, NUM_QUBITS, ops1, ops2, ops3, ops4, ops5, n9)\n",
        "        #TODO YOUR CODE HERE\n",
        "        #Finish implementation to prepare sparse quantum state for psi\n",
        "\n",
        "        aux = QBit(\"aux\")\n",
        "        allocate(1, aux)\n",
        "\n",
        "        # Should op == 1 and op == 2 use my_unitary and my_controlled_unitary?\n",
        "\n",
        "        while len(ops1) > 0:\n",
        "            op = ops1.pop()\n",
        "            if op == 1:\n",
        "                X(psi[ops2.pop()])\n",
        "            elif op == 2:\n",
        "                sy = ops3.pop()\n",
        "                control(operand=lambda: X(aux), ctrl=psi[sy[1]])\n",
        "                unitary_control(psi, aux, sy[0])\n",
        "            elif op == 3:\n",
        "                sy = ops4.pop()\n",
        "                if len(sy) == 4:\n",
        "                    aux2 = QBit(\"aux2\")\n",
        "                    allocate(1, aux2)\n",
        "                    # print(sy)\n",
        "                    aux3 = QArray(\"aux3\")\n",
        "                    arr = [psi[x] for x in sy[2]]\n",
        "                    allocate(len(arr), aux3)\n",
        "                    for i in range(len(arr)):\n",
        "                        control(operand=lambda: X(aux3[i]), ctrl=arr[i])\n",
        "\n",
        "                    control(operand=lambda: X(aux2), ctrl=aux3)\n",
        "                    # control(operand=lambda: y_rotation(2*np.arctan(np.sqrt(sy[1]/sy[0])), psi, sy[3]), ctrl=aux2)\n",
        "                    my_controlled_unitary(psi, np.pi/2 - np.arctan(np.sqrt(sy[1]/sy[0])), aux2, sy[3])\n",
        "                else:\n",
        "                    # y_rotation(2*np.arctan(np.sqrt(sy[1]/sy[0])), psi, sy[2])\n",
        "                    my_unitary(psi, np.pi/2 - np.arctan(np.sqrt(sy[1]/sy[0])), sy[2])\n",
        "            elif op == 4:\n",
        "                for b in range(NUM_QUBITS):\n",
        "                    if ops5[0][b] == 1:  # Assuming ops5 contains the final state information\n",
        "                        my_unitary(psi, np.pi/2, NUM_QUBITS - 1 - b)  # Apply a pi/2 rotation equivalent to X gate\n",
        "\n",
        "        #TODO YOUR CODE ENDS HERE\n",
        "    else:\n",
        "        for b in range(NUM_QUBITS):\n",
        "            if sparse_states[0][0][b]==1:\n",
        "                X(psi[NUM_QUBITS-1-b])\n",
        "\n",
        "model = create_model(main)\n",
        "qprog = synthesize(model)\n",
        "show(qprog)"
      ]
    },
    {
      "cell_type": "markdown",
      "metadata": {
        "id": "q7sF2FNgj9sf"
      },
      "source": [
        "## Good Luck!\n",
        "\n",
        "HINT: If you are getting inconsistent results when running code cells repeatedly, run all cells at once or restart your notebook kernel."
      ]
    }
  ],
  "metadata": {
    "colab": {
      "provenance": []
    },
    "kernelspec": {
      "display_name": "Python 3",
      "language": "python",
      "name": "python3"
    },
    "language_info": {
      "codemirror_mode": {
        "name": "ipython",
        "version": 3
      },
      "file_extension": ".py",
      "mimetype": "text/x-python",
      "name": "python",
      "nbconvert_exporter": "python",
      "pygments_lexer": "ipython3",
      "version": "3.9.13"
    }
  },
  "nbformat": 4,
  "nbformat_minor": 0
}
